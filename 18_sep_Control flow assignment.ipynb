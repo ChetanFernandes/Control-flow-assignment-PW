{
 "cells": [
  {
   "cell_type": "markdown",
   "id": "d9a4c68c-1f5e-4fc9-bef0-1e258aa878b1",
   "metadata": {},
   "source": [
    "Control Flow Assignment"
   ]
  },
  {
   "cell_type": "code",
   "execution_count": 6,
   "id": "d43850e8-6594-4e64-a3c3-3174de7f9ed2",
   "metadata": {},
   "outputs": [
    {
     "name": "stdin",
     "output_type": "stream",
     "text": [
      "Enter the number 34\n"
     ]
    },
    {
     "name": "stdout",
     "output_type": "stream",
     "text": [
      "The number is positive\n"
     ]
    }
   ],
   "source": [
    "# Question 1\n",
    "a = int(input(\"Enter the number\"))\n",
    "if  a == 0:\n",
    "        print(\"Zero is neutral number. Enter number other then 0\")\n",
    "elif a > 0:\n",
    "    print(\"The number is positive\")\n",
    "else:\n",
    "    print(\"The number is negative\")"
   ]
  },
  {
   "cell_type": "code",
   "execution_count": 7,
   "id": "eca0a284-bf86-46da-b11d-10be9661fed9",
   "metadata": {},
   "outputs": [
    {
     "name": "stdin",
     "output_type": "stream",
     "text": [
      "Enter the age 13\n"
     ]
    },
    {
     "name": "stdout",
     "output_type": "stream",
     "text": [
      "you are not eligible to vote\n"
     ]
    }
   ],
   "source": [
    "# Question 2\n",
    "a = int(input(\"Enter the age\"))\n",
    "if  a >= 18:\n",
    "        print(\"You are eligible to vote\")\n",
    "else:\n",
    "        print(\"you are not eligible to vote\")"
   ]
  },
  {
   "cell_type": "code",
   "execution_count": 8,
   "id": "45e0ae48-53b2-4bbe-a318-f39ee1b651a1",
   "metadata": {},
   "outputs": [
    {
     "name": "stdin",
     "output_type": "stream",
     "text": [
      "Enter the number -45\n",
      "Enter the number 67\n"
     ]
    },
    {
     "name": "stdout",
     "output_type": "stream",
     "text": [
      "67 - Is Maximum\n"
     ]
    }
   ],
   "source": [
    "# Question 3\n",
    "a = int(input(\"Enter the number\"))\n",
    "b = int(input(\"Enter the number\"))\n",
    "\n",
    "if a == b:\n",
    "    print(\"Numbers are equal\")\n",
    "    \n",
    "elif a > b:\n",
    "        print(f\"{a} - Is Maximum\")\n",
    "else:\n",
    "        print(f\"{b} - Is Maximum\")"
   ]
  },
  {
   "cell_type": "code",
   "execution_count": 9,
   "id": "4b1fa292-b191-4118-90f8-269d3ad0eb1f",
   "metadata": {},
   "outputs": [
    {
     "name": "stdin",
     "output_type": "stream",
     "text": [
      "Enter the year 2012\n"
     ]
    },
    {
     "name": "stdout",
     "output_type": "stream",
     "text": [
      "2012 is a leap year\n"
     ]
    }
   ],
   "source": [
    "# Question 4\n",
    "year = int(input(\"Enter the year\"))\n",
    "if (year % 4 == 0) and (year % 100 != 0) or (year % 400 == 0):\n",
    "    print(\"{0} is a leap year\".format(year))\n",
    "else:\n",
    "    print(\"{0} is not a leap year\".format(year))"
   ]
  },
  {
   "cell_type": "code",
   "execution_count": 25,
   "id": "739b2211-4aa0-4f35-a5a7-bda0ff93e13d",
   "metadata": {},
   "outputs": [
    {
     "name": "stdin",
     "output_type": "stream",
     "text": [
      "Enter the character b\n"
     ]
    },
    {
     "name": "stdout",
     "output_type": "stream",
     "text": [
      "b is consonant\n"
     ]
    }
   ],
   "source": [
    "# Question 5\n",
    "str1 = input(\"Enter the character\")\n",
    "str2 = str1.lower()\n",
    "if (str2 == 'a') or (str2 == 'e') or (str2 == 'i') or (str2 == 'o') or (str2 == 'u'):\n",
    "    print(\"{0} is vowel\".format(str1))\n",
    "else:\n",
    "    print(\"{0} is consonant\".format(str1))           "
   ]
  },
  {
   "cell_type": "code",
   "execution_count": 30,
   "id": "522b0d45-102d-4e99-b160-7197bec19d8b",
   "metadata": {},
   "outputs": [
    {
     "name": "stdin",
     "output_type": "stream",
     "text": [
      "Enter the number 35\n"
     ]
    },
    {
     "name": "stdout",
     "output_type": "stream",
     "text": [
      "35  is odd\n"
     ]
    }
   ],
   "source": [
    "#Question 6\n",
    "a = int(input(\"Enter the number\"))\n",
    "if a == 0:\n",
    "    print(\"{} is even number\".format(a))\n",
    "\n",
    "elif  a%2 == 0:\n",
    "    print(\"{} is even\".format(a))\n",
    "else:\n",
    "    print(\"{} is odd\".format(a))"
   ]
  },
  {
   "cell_type": "code",
   "execution_count": 33,
   "id": "5eb98bd3-796f-4674-a382-4318f7c713ee",
   "metadata": {},
   "outputs": [
    {
     "name": "stdin",
     "output_type": "stream",
     "text": [
      "Enter the number -345456\n"
     ]
    },
    {
     "name": "stdout",
     "output_type": "stream",
     "text": [
      "The absolute value of a is : 345456\n"
     ]
    }
   ],
   "source": [
    "# Question 7\n",
    "a = int(input(\"Enter the number\"))\n",
    "if  a < 0:\n",
    "        print(\"The absolute value of a is :\", a*-1)\n",
    "else:\n",
    "        print(\"The absolute value of a is : \", a)"
   ]
  },
  {
   "cell_type": "code",
   "execution_count": 34,
   "id": "c5059f40-6afa-42a9-bb21-1c555f45a8d4",
   "metadata": {},
   "outputs": [
    {
     "name": "stdin",
     "output_type": "stream",
     "text": [
      "Enter the number 123\n",
      "Enter the number 45677\n",
      "Enter the number 234\n"
     ]
    },
    {
     "name": "stdout",
     "output_type": "stream",
     "text": [
      "45677 is largest\n"
     ]
    }
   ],
   "source": [
    "# Question 8\n",
    "num1 = int(input(\"Enter the number\"))\n",
    "num2 = int(input(\"Enter the number\"))\n",
    "num3 = int(input(\"Enter the number\"))\n",
    "if  (num1 > num2 and num1 > num3):\n",
    "     print(\"{0} is largest\".format(num1))\n",
    "elif (num2 > num1 and num2 > num3):\n",
    "     print(\"{0} is largest\".format(num2))\n",
    "else:\n",
    "    print(\"{0} is largest\".format(num3))"
   ]
  },
  {
   "cell_type": "code",
   "execution_count": 36,
   "id": "b90e26dd-a49a-43fc-bd46-3c7d7163ba94",
   "metadata": {},
   "outputs": [
    {
     "name": "stdin",
     "output_type": "stream",
     "text": [
      "Enter the string -  CIVICS\n"
     ]
    },
    {
     "name": "stdout",
     "output_type": "stream",
     "text": [
      "civics - The given string is not palindrome\n"
     ]
    }
   ],
   "source": [
    "# Question 9\n",
    "str2 = input(\"Enter the string - \")\n",
    "str3 = str2.lower()\n",
    "if str3[0 : :1] == str3[::-1]:\n",
    "    print(\"{} - The given string is palindrome\".format(str3))\n",
    "else:\n",
    "    print(\"{} - The given string is not palindrome\".format(str3)) "
   ]
  },
  {
   "cell_type": "code",
   "execution_count": 67,
   "id": "ddd68b2a-bbab-473d-a4ea-15fe5c3db590",
   "metadata": {},
   "outputs": [
    {
     "name": "stdin",
     "output_type": "stream",
     "text": [
      "Enter the score out of 0 to 100 -  69\n"
     ]
    },
    {
     "name": "stdout",
     "output_type": "stream",
     "text": [
      "Grade is B\n"
     ]
    }
   ],
   "source": [
    "#Question 10\n",
    "score = int(input(\"Enter the score out of 0 to 100 - \"))\n",
    "if  (score > 100) or (score < 0):\n",
    "        print(\"Wrong entry\")\n",
    "elif score  >= 80:\n",
    "        print(\"Grade is A\")\n",
    "elif (score <= 79 and score >= 60):\n",
    "        print(\"Grade is B\")\n",
    "elif (score <= 59 and score >= 40):\n",
    "        print(\"Grade is C\")\n",
    "else:\n",
    "    print(\"Grade is D\")"
   ]
  },
  {
   "cell_type": "code",
   "execution_count": 46,
   "id": "0059e019-69a3-461b-a6d8-e8c66175b38d",
   "metadata": {},
   "outputs": [
    {
     "name": "stdin",
     "output_type": "stream",
     "text": [
      "Enter the number -34\n",
      "Enter the number -45\n",
      "Enter the number -56\n"
     ]
    },
    {
     "name": "stdout",
     "output_type": "stream",
     "text": [
      "-34 is greatest\n"
     ]
    }
   ],
   "source": [
    "## Question 11\n",
    "num1 = int(input(\"Enter the number\"))\n",
    "num2 = int(input(\"Enter the number\"))\n",
    "num3 = int(input(\"Enter the number\"))\n",
    "if  (num1 > num2) and (num1 > num3):\n",
    "    print(f\"{num1} is greatest\")\n",
    "else:\n",
    "    if (num2 > num3) and (num2 > num1):\n",
    "        print(f\"{num2} is greatest\")\n",
    "    else:\n",
    "        print(f\"{num3} is greatest\")"
   ]
  },
  {
   "cell_type": "code",
   "execution_count": 1,
   "id": "23a99dab-46d3-4ed6-b35c-9b3316ccdc75",
   "metadata": {},
   "outputs": [
    {
     "name": "stdin",
     "output_type": "stream",
     "text": [
      "Enter the side of traingle 45\n",
      "Enter the side of traingle 45\n",
      "Enter the side of traingle 45\n"
     ]
    },
    {
     "name": "stdout",
     "output_type": "stream",
     "text": [
      "The given traingle is equilateral\n"
     ]
    }
   ],
   "source": [
    "##### Question 12\n",
    "x = int(input(\"Enter the side of traingle\"))\n",
    "y = int(input(\"Enter the side of traingle\"))\n",
    "z = int(input(\"Enter the side of traingle\"))\n",
    "\n",
    "if (x<0) or (y<0) or (z<0):\n",
    "    print(\"Wrong entry - Enter positive numbers\")\n",
    "else:\n",
    "    if  (x == y == z):\n",
    "        print(\"The given traingle is Equilateral\")\n",
    "    else:\n",
    "        if (x == y) or (y == z) or (z == x):\n",
    "            print(\"The given traingle is Isoceles\")\n",
    "        else:\n",
    "            print(\"The given traingle is Scalene\")"
   ]
  },
  {
   "cell_type": "code",
   "execution_count": 5,
   "id": "1c93836b-44c3-4432-9079-fdd1f90b458b",
   "metadata": {},
   "outputs": [
    {
     "name": "stdin",
     "output_type": "stream",
     "text": [
      "Enter the year 2100\n"
     ]
    },
    {
     "name": "stdout",
     "output_type": "stream",
     "text": [
      "2100 is not leap year\n"
     ]
    }
   ],
   "source": [
    "# Question 13\n",
    "year = int(input(\"Enter the year\"))\n",
    "\n",
    "if (year % 400 == 0):\n",
    "    print(f\"{year} is leap year\")\n",
    "else:\n",
    "    if (year % 100 == 0):\n",
    "        print(f\"{year} is not leap year\")\n",
    "    else:\n",
    "        if (year % 4 == 0):\n",
    "            print(f\"{year} is a leap year\")\n",
    "        else:\n",
    "            print(f\"{year} is not leap year\")"
   ]
  },
  {
   "cell_type": "code",
   "execution_count": 12,
   "id": "2ee07707-fc6e-4f74-a3ca-a99dc05d9fdc",
   "metadata": {},
   "outputs": [
    {
     "name": "stdin",
     "output_type": "stream",
     "text": [
      "Enter the number -45\n"
     ]
    },
    {
     "name": "stdout",
     "output_type": "stream",
     "text": [
      "-45 is negative number\n"
     ]
    }
   ],
   "source": [
    "#Question 14\n",
    "a = int(input(\"Enter the number\"))\n",
    "if a >= 0:\n",
    "    print(f\"{a} is positive number\")\n",
    "else:\n",
    "    if a < 0:\n",
    "        print(f\"{a} is negative number\") "
   ]
  },
  {
   "cell_type": "code",
   "execution_count": 16,
   "id": "9be75cf0-234f-4c58-acf6-a9630eeeac14",
   "metadata": {},
   "outputs": [
    {
     "name": "stdin",
     "output_type": "stream",
     "text": [
      "Enter the age 19\n"
     ]
    },
    {
     "name": "stdout",
     "output_type": "stream",
     "text": [
      "Person is not teenger\n"
     ]
    }
   ],
   "source": [
    "#Question 15\n",
    "age = int(input(\"Enter the age\"))\n",
    "if age <= 13:\n",
    "    print(\"Person is not teenager\")\n",
    "else:\n",
    "    if age >= 19:\n",
    "        print(\"Person is not teenger\")\n",
    "    else:\n",
    "        if age>=14 or age<=18:\n",
    "            print(\"Person is teenager\")"
   ]
  },
  {
   "cell_type": "code",
   "execution_count": 20,
   "id": "0b032dfe-13ba-45cd-90ff-1d509f558861",
   "metadata": {},
   "outputs": [
    {
     "name": "stdin",
     "output_type": "stream",
     "text": [
      "Enter the angle 23\n"
     ]
    },
    {
     "name": "stdout",
     "output_type": "stream",
     "text": [
      "Given angle is acute angles\n"
     ]
    }
   ],
   "source": [
    "#Question 16\n",
    "angle = int(input(\"Enter the angle\"))\n",
    "\n",
    "if angle < 0:\n",
    "    print(\"Wrong entry - Enter angle between 0 to 180\")\n",
    "else:\n",
    "    if angle < 90:\n",
    "        print(\"Given angle is acute angle\")\n",
    "    else:\n",
    "        if angle > 90:\n",
    "            print(\"Given angle is obtuse angle\")\n",
    "        else:\n",
    "            print(\"Given angle is right angle\")"
   ]
  },
  {
   "cell_type": "code",
   "execution_count": 7,
   "id": "49e11db8-1b77-497e-932e-5fe0c5eda517",
   "metadata": {},
   "outputs": [
    {
     "name": "stdout",
     "output_type": "stream",
     "text": [
      "Equation: ax^2 + bx + c \n"
     ]
    },
    {
     "name": "stdin",
     "output_type": "stream",
     "text": [
      "Enter a:  1\n",
      "Enter b:  1\n",
      "Enter c:  1\n"
     ]
    },
    {
     "name": "stdout",
     "output_type": "stream",
     "text": [
      "Complex roots\n",
      "The first root:  (-0.49999999999999994+0.8660254037844386j)\n",
      "The second root:  (-0.5-0.8660254037844386j)\n"
     ]
    }
   ],
   "source": [
    "#Question 17\n",
    "print(\"Equation: ax^2 + bx + c \")\n",
    "a=int(input(\"Enter a: \"))\n",
    "b=int(input(\"Enter b: \"))\n",
    "c=int(input(\"Enter c: \"))\n",
    "D=b**2-4*a*c\n",
    "D1=D**0.5\n",
    "if (D>0):\n",
    "    print(\"Roots are real and diffrent\")\n",
    "    r1=(-b+D1)/2*a\n",
    "    r2=(-b-D1)/2*a\n",
    "elif D == 0:\n",
    "    print(\"Roots are real and eqal\")\n",
    "    r1=(-b)/2*a\n",
    "    r2=(-b)/2*a\n",
    "else:\n",
    "    print(\"Complex roots\")\n",
    "    r1 = complex(-b + (b ** 2 - (4 * a * c))**0.5) / 2 * a\n",
    "    r2 = complex(-b - (b ** 2 - (4 * a * c))**0.5) / 2 * a\n",
    "    \n",
    "print(\"The first root: \",r1)\n",
    "print(\"The second root: \",r2)"
   ]
  },
  {
   "cell_type": "code",
   "execution_count": 19,
   "id": "7489ce1e-2eec-4daf-9cb3-feb93d6a3f9f",
   "metadata": {},
   "outputs": [
    {
     "name": "stdin",
     "output_type": "stream",
     "text": [
      "Enter the number between 1 to 7 0\n"
     ]
    },
    {
     "name": "stdout",
     "output_type": "stream",
     "text": [
      "0 - wrong entry. Enter value between 1 to 7\n"
     ]
    }
   ],
   "source": [
    "#Question 18\n",
    "a = int(input(\"Enter the number between 1 to 7\"))\n",
    "if (a>7) or (a<=0):\n",
    "    print(f\"{a} - wrong entry. Enter value between 1 to 7\")\n",
    "else:\n",
    "    if a == 1:\n",
    "        print(\"Monday\")\n",
    "    else:\n",
    "        if a == 2:\n",
    "            print(\"Tuesday\")\n",
    "        else:\n",
    "            if a == 3:\n",
    "                print(\"Wednesday\")\n",
    "            else:\n",
    "                if a ==4:\n",
    "                    print(\"Thrusday\")\n",
    "                else:\n",
    "                    if a == 5:\n",
    "                        print(\"Friday\")\n",
    "                    else:\n",
    "                        if a == 6:\n",
    "                            print(\"Saturday\")\n",
    "                        else:\n",
    "                            print(\"sunday\")"
   ]
  },
  {
   "cell_type": "code",
   "execution_count": 3,
   "id": "2d454a42-5df4-457d-ab1c-86b73caaef2a",
   "metadata": {},
   "outputs": [
    {
     "name": "stdin",
     "output_type": "stream",
     "text": [
      "Enter the year 2100\n"
     ]
    },
    {
     "name": "stdout",
     "output_type": "stream",
     "text": [
      "2100 is not leap year\n"
     ]
    }
   ],
   "source": [
    "#qUESTION 19\n",
    "year = int(input(\"Enter the year\"))\n",
    "\n",
    "if (year % 400 == 0):\n",
    "    print(f\"{year} is leap year\")\n",
    "else:\n",
    "    if (year % 100 == 0):\n",
    "        print(f\"{year} is not leap year\")\n",
    "    else:\n",
    "        if (year % 4 == 0):\n",
    "            print(f\"{year} is a leap year\")\n",
    "        else:\n",
    "            print(f\"{year} is not leap year\")"
   ]
  },
  {
   "cell_type": "code",
   "execution_count": 20,
   "id": "1b25a430-8849-412a-853f-5d667a805dec",
   "metadata": {},
   "outputs": [
    {
     "name": "stdin",
     "output_type": "stream",
     "text": [
      "Enter the number 5\n"
     ]
    },
    {
     "name": "stdout",
     "output_type": "stream",
     "text": [
      "Number is  prime\n"
     ]
    }
   ],
   "source": [
    "#Question 20\n",
    "N = int(input(\"Enter the number\"))\n",
    "a = N//2\n",
    "for i in range(2, a+1):\n",
    "    k = 0\n",
    "    if (N % i) == 0:\n",
    "        k = k + 1\n",
    "        break \n",
    "        \n",
    "if (k > 0):\n",
    "    print(\"Number is not prime\")\n",
    "else:\n",
    "    print(\"Number is prime\")"
   ]
  },
  {
   "cell_type": "code",
   "execution_count": 66,
   "id": "10800939-ea07-4ab1-95ef-f7d1e25414a2",
   "metadata": {},
   "outputs": [
    {
     "name": "stdin",
     "output_type": "stream",
     "text": [
      "Enter the score out of 100 -  67\n"
     ]
    },
    {
     "name": "stdout",
     "output_type": "stream",
     "text": [
      "Grade is B\n"
     ]
    }
   ],
   "source": [
    "#Question 21\n",
    "score = int(input(\"Enter the score out of 100 - \"))\n",
    "if  (score > 100) or (score < 0):\n",
    "        print(\"Wrong entry. Enter score between 0 to 100\")\n",
    "elif score >= 80:\n",
    "        print(\"Grade is A\")\n",
    "elif (score <= 79 and score >= 60):\n",
    "        print(\"Grade is B\")\n",
    "elif (score <= 59 and score >= 40):\n",
    "        print(\"Grade is C\")\n",
    "else:\n",
    "    print(\"Grade is D\")"
   ]
  },
  {
   "cell_type": "code",
   "execution_count": 8,
   "id": "ba84a1e0-487c-49d0-962f-174ac2633f98",
   "metadata": {},
   "outputs": [
    {
     "name": "stdin",
     "output_type": "stream",
     "text": [
      "Enter the angle 67\n"
     ]
    },
    {
     "name": "stdout",
     "output_type": "stream",
     "text": [
      "Given angle is acute angle\n"
     ]
    }
   ],
   "source": [
    "#### Question 22\n",
    "angle = int(input(\"Enter the angle\"))\n",
    "\n",
    "if angle < 0:\n",
    "    print(\"Wrong entry - Enter angle between 0 to 180\")\n",
    "else:\n",
    "    if angle < 90:\n",
    "        print(\"Given angle is acute angle\")\n",
    "    else:\n",
    "        if angle > 90:\n",
    "            print(\"Given angle is obtuse angle\")\n",
    "        else:\n",
    "            print(\"Given angle is right angle\")"
   ]
  },
  {
   "cell_type": "code",
   "execution_count": 37,
   "id": "31c548c0-d961-48e8-8ae6-c32e13e03741",
   "metadata": {},
   "outputs": [
    {
     "name": "stdin",
     "output_type": "stream",
     "text": [
      "Enter the your BMI 21\n"
     ]
    },
    {
     "name": "stdout",
     "output_type": "stream",
     "text": [
      "You are overweight\n"
     ]
    }
   ],
   "source": [
    "#Question 23\n",
    "BMI = int(input(\"Enter the your BMI\"))\n",
    "\n",
    "if BMI < 0:\n",
    "    print(\"Wrong entry - Enter value greater then 0\")\n",
    "elif BMI >= 60:\n",
    "    print(\"You are underweight\")\n",
    "elif BMI < 59 and BMI >= 40:\n",
    "    print(\"You are normal\")\n",
    "elif BMI < 39 and BMI >= 20:\n",
    "    print(\"You are overweight\")\n",
    "else:\n",
    "    print(\"You are obese\")"
   ]
  },
  {
   "cell_type": "code",
   "execution_count": 12,
   "id": "5da772e1-3eda-43e0-8818-957d8ffe1877",
   "metadata": {},
   "outputs": [
    {
     "name": "stdin",
     "output_type": "stream",
     "text": [
      "Enter the number +23\n"
     ]
    },
    {
     "name": "stdout",
     "output_type": "stream",
     "text": [
      "The number is positive\n"
     ]
    }
   ],
   "source": [
    "#Question 24\n",
    "a = int(input(\"Enter the number\"))\n",
    "if  a >= 0:\n",
    "    print(\"The number is positive\")\n",
    "else: \n",
    "    print(\"The number is negative\")"
   ]
  },
  {
   "cell_type": "code",
   "execution_count": 22,
   "id": "6b50520a-3cb2-4ac0-8366-30403d03e0ef",
   "metadata": {},
   "outputs": [
    {
     "name": "stdin",
     "output_type": "stream",
     "text": [
      "Enter the character -  y\n"
     ]
    },
    {
     "name": "stdout",
     "output_type": "stream",
     "text": [
      "Enter case is lower\n"
     ]
    }
   ],
   "source": [
    "#Question 25\n",
    "str = input(\"Enter the character - \")\n",
    "a = str.isupper()\n",
    "b = str.islower()\n",
    "if a == True:\n",
    "    print(\"Enter case is Upper\")\n",
    "elif b == True:\n",
    "    print(\"Enter case is lower\")\n",
    "else:\n",
    "    print(\"special\")"
   ]
  },
  {
   "cell_type": "code",
   "execution_count": 21,
   "id": "5795cfe7-4ec9-441b-a896-78126183a4a4",
   "metadata": {},
   "outputs": [
    {
     "name": "stdin",
     "output_type": "stream",
     "text": [
      "Enter the purchase amount between 1 to 100 -  49\n"
     ]
    },
    {
     "name": "stdout",
     "output_type": "stream",
     "text": [
      "You gained 50% discount. Total amount to pay -  24\n"
     ]
    }
   ],
   "source": [
    "#Question 26\n",
    "a = int(input(\"Enter the purchase amount between 1 to 100 - \"))\n",
    "if  (a > 100) or (a <= 0):\n",
    "        print(\"Wrong entry. Enter purchase amount between 1 to 100\")\n",
    "elif a >= 80:\n",
    "        print(\"You gained 20% discount. Total amount to pay - \", round(a*.8))\n",
    "elif (a <= 79 and a >= 60):\n",
    "        print(\"You gained 30% discount. Total amount to pay - \", round(a*.7))\n",
    "elif (a < 59 and a >= 40):\n",
    "        print(\"You gained 50% discount. Total amount to pay - \", round(a*.5))\n",
    "else:\n",
    "    print(\"No Discount.Pay total price - \",a)"
   ]
  },
  {
   "cell_type": "code",
   "execution_count": 20,
   "id": "6b321c26-4f91-46ab-8cec-7e160c1cba9d",
   "metadata": {},
   "outputs": [
    {
     "name": "stdin",
     "output_type": "stream",
     "text": [
      "Enter your consumption of electricity within 0 to 100 -  58\n"
     ]
    },
    {
     "name": "stdout",
     "output_type": "stream",
     "text": [
      "You gained 50% discount. Total Electricity bill to pay -  29\n"
     ]
    }
   ],
   "source": [
    "#Question 27\n",
    "a = int(input(\"Enter your consumption of electricity within 0 to 100 - \"))\n",
    "if  (a > 100) or (a < 0):\n",
    "        print(\"Wrong entry. Enter number between 0 to 100\")\n",
    "elif a >= 80:\n",
    "        print(\"You gained 20% discount. Total Electricity bill to pay - \", round(a*.8))\n",
    "elif (a <= 79 and a >= 60):\n",
    "        print(\"You gained 30% discount. Total Electricity bill to pay - \", round(a*.7))\n",
    "elif (a < 59 and a >= 40):\n",
    "        print(\"You gained 50% discount. Total Electricity bill to pay - \", round(a*.5))\n",
    "else:\n",
    "    print(\"No Discount.Pay total electricity bill - \",a)"
   ]
  },
  {
   "cell_type": "code",
   "execution_count": 17,
   "id": "1a65dabc-508a-4f9e-9926-098358a2e94e",
   "metadata": {},
   "outputs": [
    {
     "name": "stdin",
     "output_type": "stream",
     "text": [
      "Enter the side1 23\n",
      "Enter the side2 12\n",
      "Enter the side3 14\n",
      "Enter the side4 67\n",
      "Enter the angle 45\n",
      "Enter the angle 76\n",
      "Enter the angle 240\n",
      "Enter the angle 178\n"
     ]
    },
    {
     "name": "stdout",
     "output_type": "stream",
     "text": [
      "It is noq quadrilatrial\n"
     ]
    }
   ],
   "source": [
    "#Question 28\n",
    "AB = int(input(\"Enter the side1\"))\n",
    "BC = int(input(\"Enter the side2\"))\n",
    "CD = int(input(\"Enter the side3\"))\n",
    "AD = int(input(\"Enter the side4\"))\n",
    "A  = int(input(\"Enter the angle\"))\n",
    "B  = int(input(\"Enter the angle\"))\n",
    "C  = int(input(\"Enter the angle\"))\n",
    "D  = int(input(\"Enter the angle\"))\n",
    "\n",
    "if  (AB == CD) and (A == D):\n",
    "        print(\"It is a Parallelogram\")\n",
    "elif (AB == BC == CD == AD) and (A == B == C == D == 90):\n",
    "        print(\"It is Square\")\n",
    "elif (AB == CD) and (A == B == C == D):\n",
    "        print(\"It is Rectangle\")\n",
    "elif (AB == BC == CD == AD) and (A == C):\n",
    "        print(\" It is Rhombus\")\n",
    "else:\n",
    "    print(\"It is not quadrilatrial\")"
   ]
  },
  {
   "cell_type": "code",
   "execution_count": 16,
   "id": "780f8915-9fed-426d-a1ef-6d288a460f76",
   "metadata": {},
   "outputs": [
    {
     "name": "stdin",
     "output_type": "stream",
     "text": [
      "Enter the month number 6\n"
     ]
    },
    {
     "name": "stdout",
     "output_type": "stream",
     "text": [
      "It is June\n"
     ]
    }
   ],
   "source": [
    "#Question 29\n",
    "Month = int(input(\"Enter the month number\"))\n",
    "if (Month > 12) or (Month <= 0):\n",
    "            print(\"Wrong Value . Enter value between 1 to 12\")\n",
    "\n",
    "elif Month == 1:\n",
    "        print(\"It is Jan\")\n",
    "elif Month == 2:\n",
    "        print(\"It is Feb\")\n",
    "elif Month == 3:\n",
    "        print(\"It is March\")\n",
    "elif Month == 4:\n",
    "        print(\"It is April\")\n",
    "elif Month == 5:\n",
    "        print(\"It is May\")\n",
    "elif Month == 6:\n",
    "        print(\"It is June\")\n",
    "elif Month == 7:\n",
    "        print(\"It is July\")\n",
    "elif Month == 8:\n",
    "        print(\"It is Agust\")\n",
    "elif Month == 9:\n",
    "        print(\"It is Sep\")\n",
    "elif Month == 10:\n",
    "        print(\"It is Oct\")\n",
    "elif Month == 11:\n",
    "        print(\"It is Nov\")\n",
    "else:\n",
    "    print(\"It is Dec\")"
   ]
  },
  {
   "cell_type": "code",
   "execution_count": 23,
   "id": "f40bfc14-2799-455d-95d7-4e5459d41d2a",
   "metadata": {},
   "outputs": [
    {
     "name": "stdin",
     "output_type": "stream",
     "text": [
      "Enter the year 2014\n"
     ]
    },
    {
     "name": "stdout",
     "output_type": "stream",
     "text": [
      "Choose the Month in terms of number,\n",
      "        1 for  January\n",
      "        2 for March\n",
      "        3 for April\n",
      "        4 for May\n",
      "        5 for June\n",
      "        6 for July \n",
      "        7 for August\n",
      "        8 for Septmeber\n",
      "        9 for October \n",
      "        10 for November\n",
      "        11 for December\n"
     ]
    },
    {
     "name": "stdin",
     "output_type": "stream",
     "text": [
      "Enter the month 8\n"
     ]
    },
    {
     "name": "stdout",
     "output_type": "stream",
     "text": [
      "Given year is not leap year\n",
      "Month has 30 days\n"
     ]
    }
   ],
   "source": [
    "#Question 30\n",
    "year = int(input(\"Enter the year\"))\n",
    "\n",
    "print(\"\"\"Choose the Month in terms of number,\n",
    "        1 for  January\n",
    "        2 for March\n",
    "        3 for April\n",
    "        4 for May\n",
    "        5 for June\n",
    "        6 for July \n",
    "        7 for August\n",
    "        8 for Septmeber\n",
    "        9 for October \n",
    "        10 for November\n",
    "        11 for December\"\"\")\n",
    "      \n",
    "month = input(\"Enter the month\")\n",
    "\n",
    "if ((year % 4 == 0) and (year % 100 != 0) or (year % 400 == 0)):\n",
    "    print(f\"{year} is a leap year\")\n",
    "else:\n",
    "    print(\"Given year is not leap year\")\n",
    "      \n",
    "\n",
    "if (month == '1') or (month == '2') or (month == '4') or (month == '6') or (month == '7') or (month == \"9\") or (month == \"11\"):\n",
    "      print(\"Month has 31 days\")\n",
    "else:\n",
    "    print(\"Month has 30 days\")"
   ]
  },
  {
   "cell_type": "code",
   "execution_count": 27,
   "id": "b0c89148-a482-4349-98a8-b2db301b32b5",
   "metadata": {},
   "outputs": [
    {
     "name": "stdin",
     "output_type": "stream",
     "text": [
      "Enter the number -0\n"
     ]
    },
    {
     "name": "stdout",
     "output_type": "stream",
     "text": [
      "0 is a neutral number\n"
     ]
    }
   ],
   "source": [
    "# Question 1\n",
    "a = int(input(\"Enter the number\"))\n",
    "if  a > 0:\n",
    "        print(\"The number is positive\")\n",
    "elif a < 0:\n",
    "        print(\"The number is negative\")\n",
    "else:\n",
    "    print(\"0 is a neutral number\")"
   ]
  },
  {
   "cell_type": "code",
   "execution_count": 103,
   "id": "6f6b77ca-7879-46e0-83e3-892ff5b2c793",
   "metadata": {},
   "outputs": [
    {
     "name": "stdin",
     "output_type": "stream",
     "text": [
      "Enter your age 23\n"
     ]
    },
    {
     "name": "stdout",
     "output_type": "stream",
     "text": [
      "You are eligible to vote\n"
     ]
    }
   ],
   "source": [
    "#Question 2\n",
    "a = int(input(\"Enter your age\"))\n",
    "if  a >= 18:\n",
    "        print(\"You are eligible to vote\")\n",
    "else:\n",
    "        print(\"you are not eligible to vote\")"
   ]
  },
  {
   "cell_type": "code",
   "execution_count": 104,
   "id": "5a7d4e3b-ecd4-44f5-ad2e-925ebdf4a15d",
   "metadata": {},
   "outputs": [
    {
     "name": "stdin",
     "output_type": "stream",
     "text": [
      "Enter the number 34\n",
      "Enter the number 456\n"
     ]
    },
    {
     "name": "stdout",
     "output_type": "stream",
     "text": [
      "456 - Is Maximum\n"
     ]
    }
   ],
   "source": [
    "#Question 3\n",
    "a = int(input(\"Enter the number\"))\n",
    "b = int(input(\"Enter the number\"))\n",
    "if  a > b:\n",
    "        print(f\"{a} - Is Maximum\")\n",
    "else:\n",
    "        print(f\"{b} - Is Maximum\")"
   ]
  },
  {
   "cell_type": "code",
   "execution_count": 28,
   "id": "18024a3e-cfa1-4d6b-8ebe-20e4bf5e68da",
   "metadata": {},
   "outputs": [
    {
     "name": "stdin",
     "output_type": "stream",
     "text": [
      "Enter the score out of 0 to 100 -  35\n"
     ]
    },
    {
     "name": "stdout",
     "output_type": "stream",
     "text": [
      "Grade is D\n"
     ]
    }
   ],
   "source": [
    "#Question 4\n",
    "score = int(input(\"Enter the score out of 0 to 100 - \"))\n",
    "if  (score > 100) or (score < 0):\n",
    "        print(\"Wrong entry\")\n",
    "elif score  >= 80:\n",
    "        print(\"Grade is A\")\n",
    "elif (score <= 79 and score >= 60):\n",
    "        print(\"Grade is B\")\n",
    "elif (score <= 59 and score >= 40):\n",
    "        print(\"Grade is C\")\n",
    "else:\n",
    "    print(\"Grade is D\")"
   ]
  },
  {
   "cell_type": "code",
   "execution_count": 29,
   "id": "93a74d1d-59a4-4255-a038-fc236fb72ced",
   "metadata": {},
   "outputs": [
    {
     "name": "stdin",
     "output_type": "stream",
     "text": [
      "Enter the year 2017\n"
     ]
    },
    {
     "name": "stdout",
     "output_type": "stream",
     "text": [
      "2017 is not a leap year\n"
     ]
    }
   ],
   "source": [
    "# Question 5\n",
    "year = int(input(\"Enter the year\"))\n",
    "if (year % 4 == 0) and (year % 100 != 0) or (year % 400 == 0):\n",
    "    print(\"{0} is a leap year\".format(year))\n",
    "else:\n",
    "    print(\"{0} is not a leap year\".format(year))"
   ]
  },
  {
   "cell_type": "code",
   "execution_count": 1,
   "id": "1324dd25-3684-4e1b-b58f-6db847061c91",
   "metadata": {},
   "outputs": [
    {
     "name": "stdin",
     "output_type": "stream",
     "text": [
      "Enter the side of traingle 12\n",
      "Enter the side of traingle 14\n",
      "Enter the side of traingle 12\n"
     ]
    },
    {
     "name": "stdout",
     "output_type": "stream",
     "text": [
      "The given traingle is Isoceles\n"
     ]
    }
   ],
   "source": [
    "# Question 6\n",
    "x = int(input(\"Enter the side of traingle\"))\n",
    "y = int(input(\"Enter the side of traingle\"))\n",
    "z = int(input(\"Enter the side of traingle\"))\n",
    "\n",
    "if (x<0) or (y<0) or (z<0):\n",
    "    print(\"Wrong entry - Enter positive numbers\")\n",
    "else:\n",
    "    if  (x == y == z):\n",
    "        print(\"The given traingle is Equilateral\")\n",
    "    else:\n",
    "        if (x == y) or (y == z) or (z == x):\n",
    "            print(\"The given traingle is Isoceles\")\n",
    "        else:\n",
    "            print(\"The given traingle is Scalene\")"
   ]
  },
  {
   "cell_type": "code",
   "execution_count": 30,
   "id": "1de77413-6a98-4e1e-8240-1a4811bb4ed6",
   "metadata": {},
   "outputs": [
    {
     "name": "stdin",
     "output_type": "stream",
     "text": [
      "Enter the number 23\n",
      "Enter the number 56\n",
      "Enter the number 78\n"
     ]
    },
    {
     "name": "stdout",
     "output_type": "stream",
     "text": [
      "78 is largest\n"
     ]
    }
   ],
   "source": [
    "# Question 7\n",
    "num1 = int(input(\"Enter the number\"))\n",
    "num2 = int(input(\"Enter the number\"))\n",
    "num3 = int(input(\"Enter the number\"))\n",
    "if  (num1 > num2 and num1 > num3):\n",
    "     print(\"{0} is largest\".format(num1))\n",
    "elif (num2 > num1 and num2 > num3):\n",
    "     print(\"{0} is largest\".format(num2))\n",
    "else:\n",
    "    print(\"{0} is largest\".format(num3))"
   ]
  },
  {
   "cell_type": "code",
   "execution_count": 49,
   "id": "e664a17b-8e1d-47c7-a8d4-161525bef2dc",
   "metadata": {},
   "outputs": [
    {
     "name": "stdin",
     "output_type": "stream",
     "text": [
      "Enter the single alphabatic character e\n"
     ]
    },
    {
     "name": "stdout",
     "output_type": "stream",
     "text": [
      "e is vowel\n"
     ]
    }
   ],
   "source": [
    "#Question 8\n",
    "str1 = input(\"Enter the single alphabatic character\")\n",
    "str2 = str1.lower()\n",
    "if (str2 == 'a') or (str2 == 'e') or (str2 == 'i') or (str2 == 'o') or (str2 == 'u'):\n",
    "    print(\"{0} is vowel\".format(str1))\n",
    "else:\n",
    "    print(\"{0} is consonant\".format(str1))"
   ]
  },
  {
   "cell_type": "code",
   "execution_count": 58,
   "id": "d44e793d-6ac6-403e-8cec-3bb76647013d",
   "metadata": {},
   "outputs": [
    {
     "name": "stdin",
     "output_type": "stream",
     "text": [
      "Enter the purchase amount between 1 to 100 -  67\n"
     ]
    },
    {
     "name": "stdout",
     "output_type": "stream",
     "text": [
      "You gained 30% discount. Total amount to pay -  46.9\n"
     ]
    }
   ],
   "source": [
    "# Question 9\n",
    "a = int(input(\"Enter the purchase amount between 1 to 100 - \"))\n",
    "if  (a > 100) or (a <= 0):\n",
    "        print(\"Wrong entry. Enter amount between 1 to 100\")\n",
    "elif a >= 80:\n",
    "        print(\"You gained 20% discount. Total amount to pay - \", a*.8)\n",
    "elif (a <= 79 and a >= 60):\n",
    "        print(\"You gained 30% discount. Total amount to pay - \", a*.7)\n",
    "elif (a <= 59 and a >= 40):\n",
    "        print(\"You gained 50% discount. Total amount to pay - \", a*.5)\n",
    "else:\n",
    "    print(\"No Discount.Pay total price - \",a)"
   ]
  },
  {
   "cell_type": "code",
   "execution_count": 14,
   "id": "265eade3-a7d8-4fca-b25b-58517be64143",
   "metadata": {},
   "outputs": [
    {
     "name": "stdin",
     "output_type": "stream",
     "text": [
      "Enter the number 79\n"
     ]
    },
    {
     "name": "stdout",
     "output_type": "stream",
     "text": [
      "79 number is odd\n"
     ]
    }
   ],
   "source": [
    "#Question 10\n",
    "a = int(input(\"Enter the number\"))\n",
    "if  a%2 == 0:\n",
    "    print(\"{} number is even\".format(a))\n",
    "else:\n",
    "    print(\"{} number is odd\".format(a))  "
   ]
  },
  {
   "cell_type": "code",
   "execution_count": 50,
   "id": "dfa74364-9bf0-4887-8f5d-926d2519d822",
   "metadata": {},
   "outputs": [
    {
     "name": "stdout",
     "output_type": "stream",
     "text": [
      "Equation: ax^2 + bx + c \n"
     ]
    },
    {
     "name": "stdin",
     "output_type": "stream",
     "text": [
      "Enter a:  1\n",
      "Enter b:  4\n",
      "Enter c:  5\n"
     ]
    },
    {
     "name": "stdout",
     "output_type": "stream",
     "text": [
      "Complex roots\n",
      "The first root:  (-2+1j)\n",
      "The second root:  (-2-1j)\n"
     ]
    }
   ],
   "source": [
    "## Question 11\n",
    "print(\"Equation: ax^2 + bx + c \")\n",
    "a=int(input(\"Enter a: \"))\n",
    "b=int(input(\"Enter b: \"))\n",
    "c=int(input(\"Enter c: \"))\n",
    "D=b**2-4*a*c\n",
    "D1=D**0.5\n",
    "if (D>0):\n",
    "    print(\"Roots are real and diffrent\")\n",
    "    r1=(-b+D1)/2*a\n",
    "    r2=(-b-D1)/2*a\n",
    "elif D == 0:\n",
    "    print(\"Roots are real and eual\")\n",
    "    r1=(-b)/2*a\n",
    "    r2=(-b)/2*a\n",
    "else:\n",
    "    print(\"Complex roots\")\n",
    "    r1 = complex(-b + (b ** 2 - (4 * a * c))**0.5) / 2 * a\n",
    "    r2 = complex(-b - (b ** 2 - (4 * a * c))**0.5) / 2 * a\n",
    "    \n",
    "print(\"The first root: \",(r1))\n",
    "print(\"The second root: \",(r2))"
   ]
  },
  {
   "cell_type": "code",
   "execution_count": 52,
   "id": "6167a7c5-5fa1-4639-ba0c-174381e9897d",
   "metadata": {},
   "outputs": [
    {
     "name": "stdin",
     "output_type": "stream",
     "text": [
      "Enter the Day number between 1 to 7 -  6\n"
     ]
    },
    {
     "name": "stdout",
     "output_type": "stream",
     "text": [
      "It is Saturday\n"
     ]
    }
   ],
   "source": [
    "#Question 12\n",
    "\n",
    "Day = int(input(\"Enter the Day number between 1 to 7 - \"))\n",
    "if (Day > 7) or (Day <= 0):\n",
    "            print(\"Wrong Value . Enter value between 1 to 7\")\n",
    "\n",
    "elif Day == 1:\n",
    "        print(\"It is Monday\")\n",
    "elif Day == 2:\n",
    "        print(\"It is Tuesday\")\n",
    "elif Day == 3:\n",
    "        print(\"It is Wednesday\")\n",
    "elif Day == 4:\n",
    "        print(\"It is Thrusday\")\n",
    "elif Day == 5:\n",
    "        print(\"It is Friday\")\n",
    "elif Day == 6:\n",
    "        print(\"It is Saturday\")\n",
    "else:\n",
    "        print(\"It is Sunday\")"
   ]
  },
  {
   "cell_type": "code",
   "execution_count": 53,
   "id": "b5b27cf5-7d4b-46c8-9f93-a1e0f7f7259c",
   "metadata": {},
   "outputs": [
    {
     "name": "stdin",
     "output_type": "stream",
     "text": [
      "Enter the number to find factorial 6\n"
     ]
    },
    {
     "data": {
      "text/plain": [
       "720"
      ]
     },
     "execution_count": 53,
     "metadata": {},
     "output_type": "execute_result"
    }
   ],
   "source": [
    "# Question 13 - Recursive function\n",
    "def factorial(n):\n",
    "    if n == 0:\n",
    "        return 1\n",
    "    elif n == 1:\n",
    "        return 1\n",
    "    else: \n",
    "        n > 1 \n",
    "        return n * factorial(n-1)\n",
    "a = int(input(\"Enter the number to find factorial\"))\n",
    "factorial(a)"
   ]
  },
  {
   "cell_type": "code",
   "execution_count": 54,
   "id": "d5ab01a6-14f6-469b-abff-1d874b9d8a56",
   "metadata": {},
   "outputs": [
    {
     "name": "stdin",
     "output_type": "stream",
     "text": [
      "Enter the number 345\n",
      "Enter the number 678\n",
      "Enter the number 6789\n"
     ]
    },
    {
     "name": "stdout",
     "output_type": "stream",
     "text": [
      "6789 is largest\n"
     ]
    }
   ],
   "source": [
    "# Question 14\n",
    "num1 = int(input(\"Enter the number\"))\n",
    "num2 = int(input(\"Enter the number\"))\n",
    "num3 = int(input(\"Enter the number\"))\n",
    "if  (num1 > num2 and num1 > num3):\n",
    "     print(\"{0} is largest\".format(num1))\n",
    "elif (num2 > num1 and num2 > num3):\n",
    "     print(\"{0} is largest\".format(num2))\n",
    "else:\n",
    "    print(\"{0} is largest\".format(num3))"
   ]
  },
  {
   "cell_type": "code",
   "execution_count": 57,
   "id": "11bdd55b-4750-45d0-af4d-bf43d1c4f5c7",
   "metadata": {},
   "outputs": [
    {
     "name": "stdout",
     "output_type": "stream",
     "text": [
      "Welcome to Bank\n",
      "Insert your card\n"
     ]
    },
    {
     "name": "stdin",
     "output_type": "stream",
     "text": [
      "Enter your 4 digit pin number 1234\n"
     ]
    },
    {
     "name": "stdout",
     "output_type": "stream",
     "text": [
      "Choose the transaction\n",
      "           \"1 for cash withdrawl\"\n",
      "           \"2 for fast cash\"\n",
      "           \"3 for balance check\"\n",
      "           \n"
     ]
    },
    {
     "name": "stdin",
     "output_type": "stream",
     "text": [
      "Enter the transaction you need to perform 1\n",
      "Enter the amount you want to withdraw 25000\n"
     ]
    },
    {
     "name": "stdout",
     "output_type": "stream",
     "text": [
      "Invalid cash\n"
     ]
    }
   ],
   "source": [
    "#Question 15\n",
    "print(\"Welcome to Bank\")\n",
    "print(\"Insert your card\")\n",
    "p = int(input(\"Enter your 4 digit pin number\"))\n",
    "m = 25000\n",
    "if (p == 1234):\n",
    "    print(\"\"\"Choose the transaction\n",
    "           \"1 for cash withdrawl\"\n",
    "           \"2 for fast cash\"\n",
    "           \"3 for balance check\"\n",
    "           \"\"\")\n",
    "    c = int(input(\"Enter the transaction you need to perform\"))\n",
    "    if c == 1:\n",
    "        a = int(input(\"Enter the amount you want to withdraw\"))\n",
    "        if a < m and a%100 == 0:\n",
    "            print(\" Take your money\")\n",
    "        else:\n",
    "            print(\"Invalid cash\")\n",
    "    elif  c == 2:\n",
    "        print(\"\"\"choose the amount for fast cash \n",
    "                \"1 for 5000\"\n",
    "                \"2 for 10000\"\n",
    "                \"3 for 15000\"\n",
    "                \"4 for 20000\"\n",
    "                \"\"\")\n",
    "        b = int(input(\"choose the above options\"))\n",
    "        if b==1 and 5000 < m:\n",
    "            print(\"Collect your cash\", 5000)\n",
    "        elif b ==2 and 10000 < m:\n",
    "            print(\"Collect your cash\",10000)\n",
    "        elif b ==3 and 15000 < m:\n",
    "            print(\"Collect your cash\", 15000)\n",
    "        elif b == 4 and 20000 < m:\n",
    "            print(\"collect your cash\", 20000)\n",
    "        else:\n",
    "            print(\"Invalid Entry\")\n",
    "            \n",
    "    elif c == 3:\n",
    "        print(\"Your bank balance is - \")\n",
    "    else:\n",
    "        print(\"Invalid Entry\")\n",
    "else:\n",
    "    print(\"Incorrect Pin\")"
   ]
  },
  {
   "cell_type": "code",
   "execution_count": 58,
   "id": "c1ba7fdb-01f1-4a50-b284-89db5465f82b",
   "metadata": {},
   "outputs": [
    {
     "name": "stdin",
     "output_type": "stream",
     "text": [
      "Enter  the string civiv\n"
     ]
    },
    {
     "name": "stdout",
     "output_type": "stream",
     "text": [
      " The given string is not palindrome\n"
     ]
    }
   ],
   "source": [
    "#Question 16\n",
    "str = input(\"Enter  the string\")\n",
    "str.lower()\n",
    "if str[::1] == str[::-1]:\n",
    "        print(\" The given string is palindrome\")\n",
    "else:\n",
    "        print(\" The given string is not palindrome\")"
   ]
  },
  {
   "cell_type": "code",
   "execution_count": 60,
   "id": "2589c8f0-e26a-4ab5-b720-b83dbdc2f31d",
   "metadata": {},
   "outputs": [
    {
     "name": "stdout",
     "output_type": "stream",
     "text": [
      "After removing smallest and largest number [2, 3, 4, 5, 6, 7, 8, 9]\n",
      "Average Equals 5.5\n"
     ]
    }
   ],
   "source": [
    "#Question 17\n",
    "list1 = [1,2,3,4,5,6,7,8,9,10]\n",
    "a = max(list1)\n",
    "b = min(list1)\n",
    "list1.remove(a)\n",
    "list1.remove(b)\n",
    "print(\"After removing smallest and largest number\", list1)\n",
    "Average = (list1[0] + list1[-1])/2\n",
    "print(\"Average Equals\", Average)"
   ]
  },
  {
   "cell_type": "code",
   "execution_count": 19,
   "id": "50977531-62bc-421e-9289-8a7cb80cc05e",
   "metadata": {},
   "outputs": [
    {
     "name": "stdin",
     "output_type": "stream",
     "text": [
      "Enter the tempreature in celcius 123\n"
     ]
    },
    {
     "name": "stdout",
     "output_type": "stream",
     "text": [
      "List with Fahrenhite value -  50.55555555555556\n"
     ]
    }
   ],
   "source": [
    "#Question 18\n",
    "num = int(input(\"Enter the tempreature in celcius\"))\n",
    "a = (num - 32)*5/9\n",
    "print(\"List with Fahrenhite value - \",a)"
   ]
  },
  {
   "cell_type": "code",
   "execution_count": 61,
   "id": "b134aeba-d686-4d73-8553-dbc16fc1e2ed",
   "metadata": {},
   "outputs": [
    {
     "name": "stdin",
     "output_type": "stream",
     "text": [
      "Enter first  number 12\n",
      "Enter second number 45\n"
     ]
    },
    {
     "name": "stdout",
     "output_type": "stream",
     "text": [
      "Choose your math\n",
      "1 - addition\n",
      "2 - Subtraction\n",
      "3 - Multiplication\n",
      "4 - Division\n"
     ]
    },
    {
     "name": "stdin",
     "output_type": "stream",
     "text": [
      "Choose the math 4\n"
     ]
    },
    {
     "name": "stdout",
     "output_type": "stream",
     "text": [
      "Dividion 0.26666666666666666\n"
     ]
    }
   ],
   "source": [
    "# Question 19\n",
    "a = int(input(\"Enter first  number\"))\n",
    "b = int(input(\"Enter second number\"))\n",
    "print(\"Choose your math\")\n",
    "print(\"1 - addition\")\n",
    "print(\"2 - Subtraction\")\n",
    "print(\"3 - Multiplication\")\n",
    "print(\"4 - Division\")\n",
    "c = int(input(\"Choose the math\"))\n",
    "if c == 1:\n",
    "    print(\" Addition\", a + b)\n",
    "elif c == 2:\n",
    "    print(\" Subtraction\", a - b)\n",
    "elif c == 3:\n",
    "    print(\"Multiplication\", a*b)\n",
    "elif c == 4:\n",
    "    print(\"Dividion\", a/b)\n",
    "else:\n",
    "    print(\"Invalid input\")"
   ]
  },
  {
   "cell_type": "code",
   "execution_count": 36,
   "id": "98b676be-8677-4ead-8848-c17432dc1aae",
   "metadata": {},
   "outputs": [
    {
     "name": "stdin",
     "output_type": "stream",
     "text": [
      "Enter the value of p 6\n",
      "Enter the value of q 20\n"
     ]
    },
    {
     "name": "stdout",
     "output_type": "stream",
     "text": [
      "-64.66666666666667\n"
     ]
    }
   ],
   "source": [
    "# Question 20\n",
    "# X^3 - px + q = 0\n",
    "p = int(input(\"Enter the value of p\"))\n",
    "q = int(input(\"Enter the value of q\"))\n",
    "u = ((-q/2) + ((q*q/2) + (p*p*p/27)/2))/3\n",
    "v = p/3*u\n",
    "x = u - v\n",
    "print(x)       "
   ]
  },
  {
   "cell_type": "code",
   "execution_count": 65,
   "id": "68d5c5f0-74d3-4f2c-b890-a3bb6f24c937",
   "metadata": {},
   "outputs": [
    {
     "name": "stdin",
     "output_type": "stream",
     "text": [
      "Enter your income 87345\n"
     ]
    },
    {
     "name": "stdout",
     "output_type": "stream",
     "text": [
      "Your income fall under 10% tax slab. Income tax to be paid 8734\n"
     ]
    }
   ],
   "source": [
    "# Question 21\n",
    "income = int(input(\"Enter your income\"))\n",
    "if income <= 0:\n",
    "    print(\"Wrong Entry. Enter positive number\")\n",
    "elif income >= 100000:\n",
    "    print(\"Your income fall under 20% tax slab. Income tax to be paid\", round(income*(20/100)))\n",
    "elif income <= 99999 and income >= 50000:\n",
    "    print(\"Your income fall under 10% tax slab. Income tax to be paid\", round(income*(10/100)))\n",
    "elif income <= 49999 and income >= 20000:\n",
    "    print(\"Your income fall under 6% is tax slab. Income tax to be paid\", round(income*(6/100)))\n",
    "else:\n",
    "    print(\"You dont qualify for income tax\")"
   ]
  },
  {
   "cell_type": "code",
   "execution_count": 66,
   "id": "8eba3b25-d7e8-43c2-949e-570d921b8372",
   "metadata": {},
   "outputs": [
    {
     "name": "stdin",
     "output_type": "stream",
     "text": [
      "Choose your action - {Rock},{Paper},{Scissors} Scissors\n"
     ]
    },
    {
     "name": "stdout",
     "output_type": "stream",
     "text": [
      "\n",
      "You chose Scissors, computer chose Rock.\n",
      "\n",
      "Rock smashes scissors.You loose\n"
     ]
    }
   ],
   "source": [
    "#Question 22\n",
    "import random\n",
    "user_action = input(\"Choose your action - {Rock},{Paper},{Scissors}\")\n",
    "possible_action = [\"Rock\", \"Paper\", \"Scissors\"]\n",
    "computer_action = random.choice(possible_action)\n",
    "print(f\"\\nYou chose {user_action}, computer chose {computer_action}.\\n\")\n",
    "\n",
    "if user_action == computer_action:\n",
    "    print(f\"Both players selected {user_action}. It is a tie\")\n",
    "elif user_action == 'Rock':\n",
    "    if computer_action == \"Scissors\":\n",
    "        print(\"Rock smashes Scissors. You win!\")\n",
    "    else:\n",
    "        print(\"Paper covers Rock. You loose\")\n",
    "elif user_action == \"Paper\":\n",
    "    if computer_action == \"Rock\":\n",
    "        print(\"Paper covers Rock. You win\")\n",
    "    else:\n",
    "        print(\"Scissors cut paper.You loose\")\n",
    "else: \n",
    "    user_action == \"Scissors\"\n",
    "    if computer_action == \"Paper\":\n",
    "        print(\"Scissors cut paper. You win!\")\n",
    "    else:\n",
    "        print(\"Rock smashes scissors.You loose\")"
   ]
  },
  {
   "cell_type": "code",
   "execution_count": 77,
   "id": "22fed05d-f700-4fe1-92cf-89902d4d835d",
   "metadata": {},
   "outputs": [
    {
     "name": "stdin",
     "output_type": "stream",
     "text": [
      "Enter the length of password 5\n"
     ]
    },
    {
     "name": "stdout",
     "output_type": "stream",
     "text": [
      " Choose the characters for your password\n",
      "          1. Digits\n",
      "          2. Alphabets\n",
      "          3. Special Character\n",
      "          4. Exit\n"
     ]
    },
    {
     "name": "stdin",
     "output_type": "stream",
     "text": [
      "Enter the number 1\n",
      "Enter the number 3\n",
      "Enter the number 4\n"
     ]
    },
    {
     "name": "stdout",
     "output_type": "stream",
     "text": [
      "The random password is  2 7 7 * !\n"
     ]
    }
   ],
   "source": [
    "#Question 23\n",
    "import string\n",
    "import random\n",
    "length = int(input('Enter the length of password'))\n",
    "\n",
    "print(\"\"\" Choose the characters for your password\n",
    "          1. Digits\n",
    "          2. Alphabets\n",
    "          3. Special Character\n",
    "          4. Exit\"\"\")\n",
    "characterlist = \" \"\n",
    "while(True):\n",
    "    choice = int(input(\"Enter the number\"))\n",
    "    if choice == 1:\n",
    "        characterlist += string.digits\n",
    "    elif choice == 2:\n",
    "        characterlist += string.ascii_letters\n",
    "    elif choice == 3:\n",
    "        characterlist += string.punctuation\n",
    "    elif choice == 4:\n",
    "        break\n",
    "    else:\n",
    "        print(\"Wrong Entry\")\n",
    "\n",
    "password = []\n",
    "\n",
    " \n",
    "for i in range(length):\n",
    "   \n",
    "    randomchar = random.choice(characterlist)\n",
    "     \n",
    "    # appending a random character to password\n",
    "    password.append(randomchar)\n",
    " \n",
    "# printing password as a string\n",
    "print(\"The random password is  \" + \" \".join(password)) "
   ]
  },
  {
   "cell_type": "code",
   "execution_count": 78,
   "id": "2399e7dd-9cef-4ec1-b4fe-5631bb6a3fd4",
   "metadata": {},
   "outputs": [
    {
     "name": "stdin",
     "output_type": "stream",
     "text": [
      "Enter your name!  Chetan\n"
     ]
    },
    {
     "name": "stdout",
     "output_type": "stream",
     "text": [
      "Greetings Chetan ! Welcome to your adventure!\n"
     ]
    },
    {
     "name": "stdin",
     "output_type": "stream",
     "text": [
      "Would you rather 'Play' the game or'Perish'? Play\n"
     ]
    },
    {
     "name": "stdout",
     "output_type": "stream",
     "text": [
      "Great! Lets play the game\n"
     ]
    },
    {
     "name": "stdin",
     "output_type": "stream",
     "text": [
      "Want to go to the 'Jungle' or the 'Desert' Desert\n"
     ]
    },
    {
     "name": "stdout",
     "output_type": "stream",
     "text": [
      "Welcome to the mighty sahara desert! Your tour guide told you to wait here...\n"
     ]
    },
    {
     "name": "stdin",
     "output_type": "stream",
     "text": [
      "But he has been gone a long time.. 'Follow' or 'Wait'? Wait\n"
     ]
    },
    {
     "name": "stdout",
     "output_type": "stream",
     "text": [
      "You wait another ten minutes, and he still isn't here\n"
     ]
    }
   ],
   "source": [
    "# Question 24\n",
    "name = input('Enter your name! ')\n",
    "print(f\"Greetings {name} ! Welcome to your adventure!\")\n",
    "start = input(\"Would you rather 'Play' the game or'Perish'?\")\n",
    "\n",
    "if start == \"Play\":\n",
    "    print(\"Great! Lets play the game\")\n",
    "    setting = input(\"Want to go to the 'Jungle' or the 'Desert'\")\n",
    "    \n",
    "    if setting == 'Jungle':\n",
    "        print(\"Welcome to the mighty Amazon rainforest! Your tour guide told you to wait here...\")\n",
    "        response = input(\"But he has been gone a long time.. 'Follow' or 'Wait'?\")\n",
    "        if response == 'Follow':\n",
    "            print(\"You follow him into the trees...\")\n",
    "        elif response == 'Wait':\n",
    "            print(\"You wait another ten minutes, and he still isn't here\")\n",
    "        else:\n",
    "            print(\"Invalid response! You loose\")\n",
    "            quit()\n",
    "            \n",
    "    elif setting == 'Desert':\n",
    "        print(\"Welcome to the mighty sahara desert! Your tour guide told you to wait here...\")\n",
    "        response = input(\"But he has been gone a long time.. 'Follow' or 'Wait'?\")\n",
    "        if response == 'Follow':\n",
    "            print(\"You follow him into the trees...\")\n",
    "        elif response == 'Wait':\n",
    "            print(\"You wait another ten minutes, and he still isn't here\")\n",
    "        else:\n",
    "            print(\"Invalid response! You loose\")\n",
    "            quit()\n",
    "else:\n",
    "    print('Lame...Okay you are dead now...')\n",
    "    quit()"
   ]
  },
  {
   "cell_type": "code",
   "execution_count": 2,
   "id": "fd2f3fd2-2160-4433-8b55-a7b3eba64f4c",
   "metadata": {},
   "outputs": [
    {
     "name": "stdin",
     "output_type": "stream",
     "text": [
      "Enter the value of a 1\n",
      "Enter the value of b 3\n",
      "Enter the value of c 4\n",
      "Enter the value of d 5\n",
      "Enter the value of e 6\n",
      "Enter the value of f 7\n"
     ]
    },
    {
     "name": "stdout",
     "output_type": "stream",
     "text": [
      "Values of x and y:\n",
      "-0.333 1.444\n"
     ]
    }
   ],
   "source": [
    "#Question 25\n",
    "a = int(input('Enter the value of a'))\n",
    "b = int(input('Enter the value of b'))\n",
    "c = int(input('Enter the value of c'))\n",
    "d = int(input('Enter the value of d'))\n",
    "e = int(input('Enter the value of e'))\n",
    "f = int(input('Enter the value of f'))\n",
    "n = a*e - b*d\n",
    "print(\"Values of x and y:\")\n",
    "if n != 0:\n",
    "    x = (c*e - b*f) / n\n",
    "    y = (a*f - c*d) / n\n",
    "    print('{} {}'.format(round(x,3), round(y,3)))"
   ]
  },
  {
   "cell_type": "code",
   "execution_count": 5,
   "id": "4f364062-8079-4ca5-85dc-06bc6728d78a",
   "metadata": {},
   "outputs": [
    {
     "name": "stdout",
     "output_type": "stream",
     "text": [
      "Welcome to quiz\n",
      "Note: Spelling mistakes are considered as worng answers\n"
     ]
    },
    {
     "name": "stdin",
     "output_type": "stream",
     "text": [
      "Do you want to play. 'yes' or 'no' Yes\n",
      "1. what does CPU stands for? central processing unit\n"
     ]
    },
    {
     "name": "stdout",
     "output_type": "stream",
     "text": [
      "You are correct\n"
     ]
    },
    {
     "name": "stdin",
     "output_type": "stream",
     "text": [
      "2. what does GPU stands for? Graphical processing unut\n"
     ]
    },
    {
     "name": "stdout",
     "output_type": "stream",
     "text": [
      "  You are incorrect\n",
      "  Correct answer is - graphical processing unit\n"
     ]
    },
    {
     "name": "stdin",
     "output_type": "stream",
     "text": [
      "3. What does RAM stands for? random access memory\n"
     ]
    },
    {
     "name": "stdout",
     "output_type": "stream",
     "text": [
      "  You are correct\n"
     ]
    },
    {
     "name": "stdin",
     "output_type": "stream",
     "text": [
      "4. What does ROM stands for? Read only memory\n"
     ]
    },
    {
     "name": "stdout",
     "output_type": "stream",
     "text": [
      "You are correct\n"
     ]
    },
    {
     "name": "stdin",
     "output_type": "stream",
     "text": [
      "5. What does PSU stands for? poer\n"
     ]
    },
    {
     "name": "stdout",
     "output_type": "stream",
     "text": [
      "You are incorrect\n",
      " Correct answer is - power supply unit\n",
      "60.0% questions are correct.\n"
     ]
    }
   ],
   "source": [
    "#Question 26\n",
    "print(\"Welcome to quiz\")\n",
    "print(\"Note: Spelling mistakes are considered as worng answers\")\n",
    "score = 0\n",
    "question = 0\n",
    "playing = input(\"Do you want to play. 'yes' or 'no'\").lower()\n",
    "if playing == 'yes':\n",
    "    question += 1\n",
    "    ques = input(f\"{question}. what does CPU stands for?\").lower()\n",
    "    if ques == 'central processing unit':\n",
    "        print(\"You are correct\")\n",
    "        score += 1\n",
    "    else:\n",
    "        print(\"You are wrong\")\n",
    "        print(\"Correct answer is - central processing unit\")\n",
    "        \n",
    "    question += 1\n",
    "    ques = input(f\"{question}. what does GPU stands for?\").lower()\n",
    "    if ques == 'graphical processing unit':\n",
    "        print(\"  You are correct\")\n",
    "        score += 1\n",
    "    else:\n",
    "        print(\"  You are incorrect\")\n",
    "        print(\"  Correct answer is - graphical processing unit\")\n",
    "        \n",
    "    question += 1\n",
    "    ques = input(f\"{question}. What does RAM stands for?\").lower()\n",
    "    if ques == 'random access memory':\n",
    "        print(\"  You are correct\")\n",
    "        score += 1\n",
    "    else:\n",
    "        print(\"  You are incorrect\")\n",
    "        print(\"  Correct answer is - random access memory\")\n",
    "        \n",
    "    question +=1\n",
    "    ques = input(f\"{question}. What does ROM stands for?\").lower()\n",
    "    if ques == 'read only memory':\n",
    "        print(\"You are correct\")\n",
    "        score += 1\n",
    "    else:\n",
    "        print(\"You are incorrect\")\n",
    "        print(\" Correct answer is - read only memory\")\n",
    "        \n",
    "    question +=1\n",
    "    ques = input(f\"{question}. What does PSU stands for?\").lower()\n",
    "    if ques == 'power supply unit':\n",
    "        print(\"You are correct\")\n",
    "        score += 1\n",
    "    else:\n",
    "        print(\"You are incorrect\")\n",
    "        print(\" Correct answer is - power supply unit\")\n",
    "else:\n",
    "    print(\"You are out of contest. Thank you\")\n",
    "\n",
    "try:\n",
    "    percentage = (score * 100)/question\n",
    "    \n",
    "except ZeroDivisionError:\n",
    "    print('0% quetions are correct')\n",
    "\n",
    "print(f'{percentage}% questions are correct.')"
   ]
  },
  {
   "cell_type": "code",
   "execution_count": 12,
   "id": "1f8e9cb8-36f3-482c-bd24-ba8305fe9694",
   "metadata": {},
   "outputs": [
    {
     "name": "stdin",
     "output_type": "stream",
     "text": [
      "Enter the year 2017\n"
     ]
    },
    {
     "name": "stdout",
     "output_type": "stream",
     "text": [
      " The given year is prime\n"
     ]
    }
   ],
   "source": [
    "#Question 27\n",
    "num1 = int(input(\"Enter the year\"))\n",
    "k = 0\n",
    "for i in range(2,num1//2):\n",
    "    if num1%i == 0:\n",
    "        k = k+1\n",
    "        break\n",
    "        \n",
    "if k == 0:\n",
    "    print(\" The given year is prime\")\n",
    "else:\n",
    "    print(\" The given year is not prime\")"
   ]
  },
  {
   "cell_type": "code",
   "execution_count": 6,
   "id": "aaba0fe9-23d9-4f42-b187-29d5224806a5",
   "metadata": {},
   "outputs": [
    {
     "name": "stdout",
     "output_type": "stream",
     "text": [
      "* SORT THREE NUMBERS AScENDING *\n"
     ]
    },
    {
     "name": "stdin",
     "output_type": "stream",
     "text": [
      "Insert first number =  345\n",
      "Insert second number =  677\n",
      "Insert third number =  9\n"
     ]
    },
    {
     "name": "stdout",
     "output_type": "stream",
     "text": [
      "9\n",
      "345\n",
      "677\n"
     ]
    }
   ],
   "source": [
    "#Question 28\n",
    "print(\"* SORT THREE NUMBERS AScENDING *\")\n",
    "digit1=int(input(\"Insert first number = \"))\n",
    "digit2=int(input(\"Insert second number = \"))\n",
    "digit3=int(input(\"Insert third number = \"))\n",
    "\n",
    "if(digit1>digit2>digit3):\n",
    "  print(digit3)\n",
    "  print(digit2)\n",
    "  print(digit1)\n",
    "elif(digit1>digit3>digit2):\n",
    "  print(digit2)\n",
    "  print(digit3)\n",
    "  print(digit1)\n",
    "elif(digit2>digit3>digit1):\n",
    "  print(digit1)\n",
    "  print(digit3)\n",
    "  print(digit2)\n",
    "elif(digit3>digit2>digit1):\n",
    "  print(digit1)\n",
    "  print(digit2)\n",
    "  print(digit3)\n",
    "elif(digit3>digit1>digit2):\n",
    "  print(digit2)\n",
    "  print(digit1)\n",
    "  print(digit3)\n",
    "elif(digit2>digit1>digit3):\n",
    "  print(digit3)\n",
    "  print(digit1)\n",
    "  print(digit2)"
   ]
  },
  {
   "cell_type": "code",
   "execution_count": 7,
   "id": "5a8ca360-ae63-4744-ad0c-3813a409a478",
   "metadata": {},
   "outputs": [
    {
     "name": "stdout",
     "output_type": "stream",
     "text": [
      "Equation: ax^2 + bx + c \n"
     ]
    },
    {
     "name": "stdin",
     "output_type": "stream",
     "text": [
      "Enter a:  1\n",
      "Enter b:  12\n",
      "Enter c:  32\n"
     ]
    },
    {
     "name": "stdout",
     "output_type": "stream",
     "text": [
      "Roots are real and diffrent\n",
      "The first root:  -4.0\n",
      "The second root:  -8.0\n"
     ]
    }
   ],
   "source": [
    "#Questio 29\n",
    "\n",
    "print(\"Equation: ax^2 + bx + c \")\n",
    "a=int(input(\"Enter a: \"))\n",
    "b=int(input(\"Enter b: \"))\n",
    "c=int(input(\"Enter c: \"))\n",
    "D=b**2-4*a*c\n",
    "D1=D**0.5\n",
    "if (D>0):\n",
    "    print(\"Roots are real and diffrent\")\n",
    "    r1=(-b+D1)/2*a\n",
    "    r2=(-b-D1)/2*a\n",
    "elif D == 0:\n",
    "    print(\"Roots are real and eual\")\n",
    "    r1=(-b)/2*a\n",
    "    r2=(-b)/2*a\n",
    "else:\n",
    "    print(\"Complex roots\")\n",
    "    r1 = complex(-b + (b ** 2 - (4 * a * c))**0.5) / 2 * a\n",
    "    r2 = complex(-b - (b ** 2 - (4 * a * c))**0.5) / 2 * a\n",
    "    \n",
    "print(\"The first root: \",(r1))\n",
    "print(\"The second root: \",(r2))"
   ]
  },
  {
   "cell_type": "code",
   "execution_count": 8,
   "id": "b4e93cd6-378d-478c-b1fb-96f6cc78f447",
   "metadata": {},
   "outputs": [
    {
     "name": "stdin",
     "output_type": "stream",
     "text": [
      "Enter your height in meters 154\n",
      "Enter your weight in Kilograms 67\n"
     ]
    },
    {
     "name": "stdout",
     "output_type": "stream",
     "text": [
      "The BMI is 0.034 so - You are thin person\n"
     ]
    }
   ],
   "source": [
    "#Question 30\n",
    "\n",
    "height = int(input(\"Enter your height in meters\"))\n",
    "weight = int(input(\"Enter your weight in Kilograms\"))\n",
    "  \n",
    "BMI = round(height/(weight*weight), 3)\n",
    "print(\"The BMI is\", format(BMI), \"so - \", end ='')\n",
    "\n",
    "\n",
    "if (BMI < 18.5):\n",
    "    print(\"You are thin person\")\n",
    "  \n",
    "elif ( BMI >= 18.6 and BMI <= 24.9):\n",
    "    print(\"You are healthy\")\n",
    "  \n",
    "elif ( BMI >= 25 and BMI <= 29.9):\n",
    "    print(\"you're overweight\")\n",
    "\n",
    "else: \n",
    "    (BMI >=30)\n",
    "    print(\"you are obese\")"
   ]
  },
  {
   "cell_type": "code",
   "execution_count": 11,
   "id": "38777a70-93b0-40ba-a500-f77fe2cdf276",
   "metadata": {},
   "outputs": [
    {
     "name": "stdin",
     "output_type": "stream",
     "text": [
      "Enter the password Chetan)455\n"
     ]
    },
    {
     "name": "stdout",
     "output_type": "stream",
     "text": [
      "Invalid Password\n"
     ]
    }
   ],
   "source": [
    "#Question 31\n",
    "\n",
    "\"\"\"Condition of password validation:\n",
    "   1. Minimum 8 characters\n",
    "   2. The alphabet must be between [a-z]\n",
    "   3. At least one alphabet should be upper case [A- Z]\n",
    "   4. At least 1 digit between 0 to 9\n",
    "   5. At least 1 character form [_ or @ or $]\"\"\"\n",
    "   \n",
    "l = 0\n",
    "p = 0\n",
    "c = 0\n",
    "d = 0\n",
    "Password = input('Enter the password')\n",
    "upper_letter = \"ABCDEFGHIJKLMNOPQRSTUVWXYZ\"\n",
    "lower_letter = \"abcdefghijklmnopqrstuvwxyz\"\n",
    "special_char = \"_ @$\"\n",
    "digits = \"1234567890\"\n",
    "if len(Password) >= 8:\n",
    "    for i in Password:\n",
    "        if i in upper_letter:\n",
    "            l+= 1\n",
    "        if i in lower_letter:\n",
    "            p+= 1\n",
    "        if i in special_char:\n",
    "            c+=1\n",
    "        if i in digits:\n",
    "            d+=1\n",
    "if (l>=1 and p>=1 and c>=1 and d>=1):\n",
    "    print(\"Valid Password\")\n",
    "else:\n",
    "    print(\"Invalid Password\")   "
   ]
  },
  {
   "cell_type": "code",
   "execution_count": 12,
   "id": "c73f8f60-9a8a-41c0-a37b-d04823e8e987",
   "metadata": {},
   "outputs": [
    {
     "name": "stdout",
     "output_type": "stream",
     "text": [
      "Matrix1\n",
      "1 2 \n",
      "20 34 \n",
      "Matrix2\n",
      "4 5 \n",
      "6 7 \n",
      "Addition - Final result\n",
      "5 7 \n",
      "26 41 \n",
      "Subtraction - Final result\n",
      "-3 -3 \n",
      "14 27 \n"
     ]
    }
   ],
   "source": [
    "#Question 32\n",
    "\n",
    "# Input matrices\n",
    "matrix1 = [[1, 2], [20, 34]]\n",
    "matrix2 = [[4, 5], [6, 7]]\n",
    "\n",
    "\n",
    "print(\"Matrix1\")\n",
    "for row in matrix1:\n",
    "    for element in row:\n",
    "        print(element, end = \" \")\n",
    "    print()\n",
    "    \n",
    "print(\"Matrix2\")\n",
    "for row in matrix2:\n",
    "    for element in row:\n",
    "        print(element, end = \" \")\n",
    "    print()\n",
    "    \n",
    "result = [[0,0], [0,0]]\n",
    "result1 = [[0,0], [0,0]]\n",
    "\n",
    "\n",
    "#Addition of Matrix\n",
    "for i in range(len(matrix1)):\n",
    "    for j in range(len(matrix1[1])):\n",
    "        result[i][j] = matrix1[i][j] + matrix2[i][j]\n",
    "        \n",
    "#Subtraction of Matrix       \n",
    "for i in range(len(matrix1)):\n",
    "    for j in range(len(matrix1[1])):\n",
    "        result1[i][j] = matrix1[i][j] - matrix2[i][j]\n",
    "        \n",
    "\n",
    "print(\"Addition - Final result\")\n",
    "for row in result:\n",
    "    for element in row:\n",
    "        print(element, end = \" \")\n",
    "    print()\n",
    "    \n",
    "print(\"Subtraction - Final result\")\n",
    "for row in result1:\n",
    "    for element in row:\n",
    "        print(element, end = \" \")\n",
    "    print()"
   ]
  },
  {
   "cell_type": "code",
   "execution_count": 14,
   "id": "9828f26d-2346-455d-8da3-bf15a33ab6b5",
   "metadata": {},
   "outputs": [
    {
     "name": "stdin",
     "output_type": "stream",
     "text": [
      "Enter the number 54\n",
      "Enter the number 24\n"
     ]
    },
    {
     "name": "stdout",
     "output_type": "stream",
     "text": [
      " The GCD is  6\n"
     ]
    }
   ],
   "source": [
    "#Question 33\n",
    "\n",
    "num1 = int(input(\"Enter the number\"))\n",
    "num2 = int(input(\"Enter the number\"))\n",
    "if num1 == 0:\n",
    "    print(\"GCD is\", num2)\n",
    "elif num2 == 0:\n",
    "    print(\"GCD is\", num1)\n",
    "elif num2 == num1:\n",
    "    print(\"GCD is\", num1)\n",
    "elif num1>num2 or num2 > num1:\n",
    "    while num2:\n",
    "        num1, num2 = num2, (num1 % num2)\n",
    "        continue\n",
    "print(\" The GCD is \" , num1)"
   ]
  },
  {
   "cell_type": "code",
   "execution_count": 15,
   "id": "5037627f-d5ff-4905-992b-cf7542e38c38",
   "metadata": {},
   "outputs": [
    {
     "name": "stdout",
     "output_type": "stream",
     "text": [
      "Element of first Matrix\n",
      "1 2 \n",
      "3 4 \n",
      "7 7 \n",
      "Element of second Matrix\n",
      "4 5 \n",
      "6 7 \n",
      "6 8 \n",
      "The final matrix\n",
      "4 10 \n",
      "18 28 \n",
      "42 56 \n"
     ]
    }
   ],
   "source": [
    "#Question 34\n",
    "\n",
    "# Input matrices\n",
    "matrix1 = [[1, 2], [3, 4], [7,7]]\n",
    "matrix2 = [[4, 5], [6, 7], [6,8]]\n",
    "\n",
    "#printing the matrix1\n",
    "print(\"Element of first Matrix\")\n",
    "for row in matrix1:\n",
    "    for element in row:\n",
    "        print(element, end = \" \")\n",
    "    print()\n",
    "    \n",
    "#printing matrix 2\n",
    "print(\"Element of second Matrix\")\n",
    "for row in matrix2:\n",
    "    for element in row:\n",
    "        print(element, end = \" \")\n",
    "    print()\n",
    "\n",
    "result = [[0,0],[0,0],[0,0]]\n",
    "\n",
    "#multiplication of matrix\n",
    "for i in range(len(matrix1)):\n",
    "    for j in range(len(matrix1[1])):\n",
    "        result[i][j] = matrix1[i][j] * matrix2[i][j]\n",
    "# printing the result\n",
    "print(\"The final matrix\")\n",
    "for row in result:\n",
    "    for element in row:\n",
    "        print(element, end = \" \")\n",
    "    print()             "
   ]
  },
  {
   "cell_type": "code",
   "execution_count": null,
   "id": "b1e13ce4-1b34-4498-8818-44399f343839",
   "metadata": {},
   "outputs": [
    {
     "name": "stdout",
     "output_type": "stream",
     "text": [
      "-|-|-\n",
      "-|-|-\n",
      "-|-|-\n"
     ]
    },
    {
     "name": "stdin",
     "output_type": "stream",
     "text": [
      "Enter a number 1 - 9:  1\n"
     ]
    },
    {
     "name": "stdout",
     "output_type": "stream",
     "text": [
      "X|-|-\n",
      "-|-|O\n",
      "-|-|-\n"
     ]
    },
    {
     "name": "stdin",
     "output_type": "stream",
     "text": [
      "Enter a number 1 - 9:  2\n"
     ]
    },
    {
     "name": "stdout",
     "output_type": "stream",
     "text": [
      "X|X|-\n",
      "-|-|O\n",
      "O|-|-\n"
     ]
    },
    {
     "name": "stdin",
     "output_type": "stream",
     "text": [
      "Enter a number 1 - 9:  3\n"
     ]
    },
    {
     "name": "stdout",
     "output_type": "stream",
     "text": [
      "The winner is X\n",
      "The winner is X\n",
      "X|X|X\n",
      "-|-|O\n",
      "O|-|O\n"
     ]
    },
    {
     "name": "stdin",
     "output_type": "stream",
     "text": [
      "Enter a number 1 - 9:  7\n"
     ]
    },
    {
     "name": "stdout",
     "output_type": "stream",
     "text": [
      "OOps palyer is already in list\n",
      "The winner is X\n",
      "The winner is X\n",
      "X|X|X\n",
      "O|-|O\n",
      "O|-|O\n"
     ]
    },
    {
     "name": "stdin",
     "output_type": "stream",
     "text": [
      "Enter a number 1 - 9:  7\n"
     ]
    },
    {
     "name": "stdout",
     "output_type": "stream",
     "text": [
      "OOps palyer is already in list\n",
      "The winner is X\n",
      "The winner is X\n",
      "X|X|X\n",
      "O|O|O\n",
      "O|-|O\n"
     ]
    },
    {
     "name": "stdin",
     "output_type": "stream",
     "text": [
      "Enter a number 1 - 9:  8\n"
     ]
    },
    {
     "name": "stdout",
     "output_type": "stream",
     "text": [
      "The winner is X\n",
      "X|X|X\n",
      "O|O|O\n",
      "O|X|O\n",
      "Its a tie\n"
     ]
    }
   ],
   "source": [
    "#Question 35\n",
    "import random\n",
    "\n",
    "board = [\"-\", \"-\", \"-\",\n",
    "         \"-\", \"-\", \"-\",\n",
    "         \"-\", \"-\", \"-\"]\n",
    "currentplayer = \"X\"\n",
    "winner = False\n",
    "Gamerunning = True\n",
    "#printing the gane board\n",
    "def printboard(board):\n",
    "    print(board[0] +  \"|\" + board[1] + \"|\" + board[2])\n",
    "    print(board[3] +  \"|\" + board[4] + \"|\" + board[5])\n",
    "    print(board[6] +  \"|\" + board[7] + \"|\" + board[8])\n",
    "\n",
    "# take player input\n",
    "def playerinput(board):\n",
    "    inp = int(input(\"Enter a number 1 - 9: \"))\n",
    "    if inp >= 1 and inp<= 9 and board[inp-1] == \"-\":\n",
    "        board[inp-1] = currentplayer\n",
    "    else:\n",
    "        print(\"OOps palyer is already in list\")\n",
    "\n",
    "# check for win and tie\n",
    "def horizontal (board):\n",
    "    global winner\n",
    "    if board[0] == board[1] == board[2] and board[1] != \"-\":\n",
    "        winner = board[0]\n",
    "        return True\n",
    "    elif board[3] == board[4] == board[5] and board[3] != \"-\":\n",
    "        winner = board[3]\n",
    "        return True\n",
    "    elif board[6] == board[7] == board[8] and board[6] != \"-\":\n",
    "        winner = board[6]\n",
    "        return True \n",
    "    \n",
    "def row(board):\n",
    "    global winner\n",
    "    if board[0] == board[3] == board[6] and board[0]!= \"-\":\n",
    "        winner = board[0]\n",
    "        return True\n",
    "    elif board[1] == board[4] == board[7] and board[1]!= \"-\":\n",
    "        winner = board[0]\n",
    "        return True\n",
    "    elif board[2] == board[5] == board[8] and board[2]!= \"-\":\n",
    "        winner = board[0]\n",
    "        return True\n",
    "def diag(board):\n",
    "    global winner\n",
    "    if board[0] == board[4] == board[8] and board[0] != \"-\":\n",
    "        winner = board[0]\n",
    "        return True\n",
    "    elif board[2] == board[4] == board[6] and board[2] != \"-\":\n",
    "        winner = board[2]\n",
    "        return True\n",
    "\n",
    "def checktie(board):\n",
    "    if \"-\" not in board:\n",
    "        printboard(board)\n",
    "        print(\"Its a tie\")\n",
    "        Gamerunning = False\n",
    "        \n",
    "def checkwin():\n",
    "    if diag(board) or horizontal(board) or row(board):\n",
    "        print(f\"The winner is {winner}\")\n",
    "        Gamerunning = False\n",
    "    \n",
    "    \n",
    "#Swicth Player\n",
    "def switchplayer():\n",
    "    global currentplayer\n",
    "    if currentplayer == \"X\":\n",
    "        currentplayer = \"O\"\n",
    "    else:\n",
    "        currentplayer =\"X\"\n",
    "      \n",
    "#Computer\n",
    "def computer(board):\n",
    "    while currentplayer == \"O\":\n",
    "        position = random.randint(0,8)\n",
    "        if board[position] == \"-\":\n",
    "            board[position] = \"O\"\n",
    "            switchplayer()\n",
    "        \n",
    "while Gamerunning:\n",
    "    printboard(board)\n",
    "    playerinput(board)\n",
    "    checkwin()\n",
    "    checktie(board)\n",
    "    switchplayer()\n",
    "    computer(board)\n",
    "    checkwin()\n",
    "    checktie(board)"
   ]
  },
  {
   "cell_type": "code",
   "execution_count": 1,
   "id": "148f14c5-8223-4f8a-9174-2670de59ddf1",
   "metadata": {},
   "outputs": [
    {
     "name": "stdin",
     "output_type": "stream",
     "text": [
      "Enter the term till where you want fibonacci to generate 9\n"
     ]
    },
    {
     "name": "stdout",
     "output_type": "stream",
     "text": [
      "0  :  0\n",
      "1  :  1\n",
      "2  :  1\n",
      "3  :  2\n",
      "4  :  3\n",
      "5  :  5\n",
      "6  :  8\n",
      "7  :  13\n",
      "8  :  21\n",
      "9  :  34\n"
     ]
    }
   ],
   "source": [
    "#Question 36\n",
    "num = int(input(\"Enter the term till where you want fibonacci to generate\"))\n",
    "a = 0 \n",
    "b = 1\n",
    "print(0, \" : \", a)\n",
    "print(1, \" : \", b)\n",
    "for i in range(2,num+1):\n",
    "    c = a + b\n",
    "    if i > num:\n",
    "        break\n",
    "    print(i, \" : \", c)\n",
    "    a = b\n",
    "    b = c"
   ]
  },
  {
   "cell_type": "code",
   "execution_count": 2,
   "id": "383b727f-fe0a-4323-b0d2-2509b08aa150",
   "metadata": {},
   "outputs": [
    {
     "name": "stdin",
     "output_type": "stream",
     "text": [
      "Enter the number 45\n"
     ]
    },
    {
     "name": "stdout",
     "output_type": "stream",
     "text": [
      "1836311903\n"
     ]
    }
   ],
   "source": [
    "# Question 37\n",
    "term = {}\n",
    "\n",
    "# Fibonacci Series using memoized Recursion\n",
    "def fib(n):\n",
    "    \n",
    "    if n in term:\n",
    "        return term[n]\n",
    "    \n",
    "    if n  == 1:\n",
    "        value = 1\n",
    "    elif n == 2:\n",
    "        value = 2\n",
    "    elif n > 2:\n",
    "        value = fib(n-1) + fib(n-2)\n",
    "    term[n] = value\n",
    "    return value\n",
    "\n",
    "# Driver Code\n",
    "n = int(input(\"Enter the number\"))\n",
    "a = fib(n)\n",
    "print(a)"
   ]
  },
  {
   "cell_type": "code",
   "execution_count": 5,
   "id": "910a8193-9384-4c73-8337-f7485805d35d",
   "metadata": {},
   "outputs": [
    {
     "name": "stdout",
     "output_type": "stream",
     "text": [
      "February 2020\n",
      "Su Mo Tu We Th Fr Sa\n",
      "                  01 \n",
      "02 03 04 05 06 07 08 \n",
      "09 10 11 12 13 14 15 \n",
      "16 17 18 19 20 21 22 \n",
      "23 24 25 26 27 28 29 \n"
     ]
    }
   ],
   "source": [
    "#Question 38\n",
    "\n",
    "mm = 2\n",
    "yy = 2020\n",
    "\n",
    "month ={1:'January', 2:'February', 3:'March',\n",
    "        4:'April', 5:'May', 6:'June', 7:'July',\n",
    "        8:'August', 9:'September', 10:'October',\n",
    "        11:'November', 12:'December'}\n",
    "\n",
    "# code below for calculation of odd days\n",
    "day =(yy-1)% 400\n",
    "day = (day//100)*5 + ((day % 100) - (day % 100)//4) + ((day % 100)//4)*2\n",
    "day = day % 7\n",
    "\n",
    "nly =[31, 28, 31, 30, 31, 30,\n",
    "      31, 31, 30, 31, 30, 31]\n",
    "ly =[31, 29, 31, 30, 31, 30,\n",
    "     31, 31, 30, 31, 30, 31]\n",
    "s = 0\n",
    "\n",
    "if yy % 4 == 0:\n",
    "    for i in range(mm-1):\n",
    "        s+= ly[i]\n",
    "else:\n",
    "    for i in range(mm-1):\n",
    "        s+= nly[i]\n",
    "\n",
    "day += s % 7\n",
    "day = day % 7\n",
    "\n",
    "# variable used for white space filling\n",
    "# where date not present\n",
    "space =''\n",
    "space = space.rjust(2, ' ')\n",
    "\n",
    "# code below is to print the calendar\n",
    "print(month[mm], yy)\n",
    "print('Su', 'Mo', 'Tu', 'We', 'Th', 'Fr', 'Sa')\n",
    "\n",
    "if mm == 9 or mm == 4 or mm == 6 or mm == 11:\n",
    "    for i in range(31 + day):\n",
    "        if i<= day:\n",
    "            print(space, end =' ')\n",
    "        else:\n",
    "            print(\"{:02d}\".format(i-day), end =' ')\n",
    "            if (i + 1)% 7 == 0:\n",
    "                print()\n",
    "elif mm == 2:\n",
    "    if yy % 4 == 0:\n",
    "        p = 30\n",
    "    else:\n",
    "        p = 29\n",
    "    for i in range(p + day):\n",
    "        if i<= day:\n",
    "            print(space, end =' ')\n",
    "        else:\n",
    "            print(\"{:02d}\".format(i-day), end =' ') \n",
    "            if (i + 1)% 7 == 0:\n",
    "                print()\n",
    "else:\n",
    "    for i in range(32 + day):\n",
    "        if i<= day:\n",
    "            print(space, end =' ')\n",
    "        else:\n",
    "            print(\"{:02d}\".format(i-day), end =' ')\n",
    "            if (i + 1)% 7 == 0:\n",
    "                print()"
   ]
  },
  {
   "cell_type": "code",
   "execution_count": 4,
   "id": "e4d38d74-2aaf-4405-9af9-5b248f7c9de4",
   "metadata": {},
   "outputs": [
    {
     "name": "stdout",
     "output_type": "stream",
     "text": [
      "Dealer has X & 10\n",
      "You have  [6, 7]\n"
     ]
    },
    {
     "name": "stdin",
     "output_type": "stream",
     "text": [
      "Do you want to stay or hit? stay\n"
     ]
    },
    {
     "name": "stdout",
     "output_type": "stream",
     "text": [
      "Dealer has total of 20 with  [10, 10]\n",
      "you have total of 13 with  [6, 7]\n",
      "Dealer Wins\n"
     ]
    }
   ],
   "source": [
    "#Question 39\n",
    "import random\n",
    "# The planning Phase\n",
    "# Dealer Cards\n",
    "dealer_cards = []\n",
    "# Player Cards\n",
    "player_cards = []\n",
    "\n",
    "# Deal the cards\n",
    "# Display cards\n",
    "#Dealer cards\n",
    "while len(dealer_cards) != 2:\n",
    "    dealer_cards.append(random.randint(1, 11))\n",
    "    if len(dealer_cards) == 2:\n",
    "        print(\"Dealer has X &\", dealer_cards[1])\n",
    "        \n",
    "#Player cards\n",
    "while len(player_cards) != 2:\n",
    "    player_cards.append(random.randint(1, 11))\n",
    "    if len(player_cards) == 2:\n",
    "        print(\"You have \", player_cards)\n",
    "\n",
    "# Sum of Dealer cards\n",
    "if sum(dealer_cards) == 21:\n",
    "    print(\"Dealer has 21 and wins\")\n",
    "elif sum(dealer_cards) > 21:\n",
    "    print(\"Dealer has busted\")\n",
    "\n",
    "# Sum of player cards\n",
    "while sum(player_cards) < 21:\n",
    "    action_taken = str(input(\"Do you want to stay or hit?\"))\n",
    "    action_taken.lower()\n",
    "    if action_taken == \"hit\":\n",
    "        player_cards.append(random.randint(1,11))\n",
    "        print(\"You now have a total of \" + str(sum(player_cards)) + \" from these cards \", player_cards)\n",
    "    else:\n",
    "        print(\"Dealer has total of \" + str(sum(dealer_cards)) + \" with \", dealer_cards)\n",
    "        print(\"you have total of \" + str(sum(player_cards)) + \" with \", player_cards)\n",
    "        if sum(dealer_cards) > sum(player_cards):\n",
    "            print(\"Dealer Wins\")\n",
    "            break\n",
    "        else:\n",
    "            print(\"You win\")\n",
    "            break\n",
    "\n",
    "if sum(player_cards) > 21:\n",
    "    print(\"You Busted. Dealer Wins\")\n",
    "elif sum(player_cards) == 21:\n",
    "    print(\"You have blackjack. You win\")"
   ]
  },
  {
   "cell_type": "code",
   "execution_count": 3,
   "id": "ababdf37-5c26-4a19-9b81-4a9f06e2703b",
   "metadata": {},
   "outputs": [
    {
     "name": "stdin",
     "output_type": "stream",
     "text": [
      "Enter the number 23\n"
     ]
    },
    {
     "name": "stdout",
     "output_type": "stream",
     "text": [
      "Number is  prime\n"
     ]
    }
   ],
   "source": [
    "#Question 40\n",
    "N = int(input(\"Enter the number\"))\n",
    "k = N*0.5 #Trial division\n",
    "i = 2\n",
    "s = 0\n",
    "while(i<=k):\n",
    "    if N % i == 0:\n",
    "        s += 1\n",
    "    i += 1\n",
    "if s == 0:\n",
    "    print(\"Number is  prime\")\n",
    "else:\n",
    "    print(\"Number is not prime\")"
   ]
  },
  {
   "cell_type": "markdown",
   "id": "26b377a9-2c5f-40fa-b87a-642feac8c6ae",
   "metadata": {},
   "source": [
    "#### "
   ]
  }
 ],
 "metadata": {
  "kernelspec": {
   "display_name": "Python 3 (ipykernel)",
   "language": "python",
   "name": "python3"
  },
  "language_info": {
   "codemirror_mode": {
    "name": "ipython",
    "version": 3
   },
   "file_extension": ".py",
   "mimetype": "text/x-python",
   "name": "python",
   "nbconvert_exporter": "python",
   "pygments_lexer": "ipython3",
   "version": "3.10.8"
  }
 },
 "nbformat": 4,
 "nbformat_minor": 5
}
